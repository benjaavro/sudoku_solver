{
 "cells": [
  {
   "cell_type": "code",
   "execution_count": 1,
   "id": "5c4398d6",
   "metadata": {
    "pycharm": {
     "name": "#%%\n"
    }
   },
   "outputs": [
    {
     "name": "stdout",
     "output_type": "stream",
     "text": [
      "Requirement already satisfied: pandas in c:\\users\\sqyan\\appdata\\local\\programs\\python\\python39\\lib\\site-packages (1.4.2)\n",
      "Requirement already satisfied: pytz>=2020.1 in c:\\users\\sqyan\\appdata\\local\\programs\\python\\python39\\lib\\site-packages (from pandas) (2022.1)\n",
      "Requirement already satisfied: python-dateutil>=2.8.1 in c:\\users\\sqyan\\appdata\\local\\programs\\python\\python39\\lib\\site-packages (from pandas) (2.8.2)\n",
      "Requirement already satisfied: numpy>=1.18.5 in c:\\users\\sqyan\\appdata\\local\\programs\\python\\python39\\lib\\site-packages (from pandas) (1.22.3)\n",
      "Requirement already satisfied: six>=1.5 in c:\\users\\sqyan\\appdata\\local\\programs\\python\\python39\\lib\\site-packages (from python-dateutil>=2.8.1->pandas) (1.16.0)\n",
      "\n",
      "[notice] A new release of pip available: 22.1.2 -> 22.2.2\n",
      "[notice] To update, run: python.exe -m pip install --upgrade pip\n"
     ]
    }
   ],
   "source": [
    "!pip install pandas"
   ]
  },
  {
   "cell_type": "code",
   "execution_count": 36,
   "id": "999f3dfa",
   "metadata": {
    "pycharm": {
     "name": "#%%\n"
    }
   },
   "outputs": [],
   "source": [
    "import pandas as pd\n",
    "import numpy as np\n",
    "import math\n",
    "import itertools"
   ]
  },
  {
   "cell_type": "code",
   "execution_count": 95,
   "id": "9252e2b3",
   "metadata": {
    "pycharm": {
     "name": "#%%\n"
    }
   },
   "outputs": [
    {
     "data": {
      "text/plain": [
       "[{(0, 'A'),\n",
       "  (0, 'B'),\n",
       "  (0, 'C'),\n",
       "  (1, 'A'),\n",
       "  (1, 'B'),\n",
       "  (1, 'C'),\n",
       "  (2, 'A'),\n",
       "  (2, 'B'),\n",
       "  (2, 'C')},\n",
       " {(0, 'D'),\n",
       "  (0, 'E'),\n",
       "  (0, 'F'),\n",
       "  (1, 'D'),\n",
       "  (1, 'E'),\n",
       "  (1, 'F'),\n",
       "  (2, 'D'),\n",
       "  (2, 'E'),\n",
       "  (2, 'F')},\n",
       " {(0, 'G'),\n",
       "  (0, 'H'),\n",
       "  (0, 'I'),\n",
       "  (1, 'G'),\n",
       "  (1, 'H'),\n",
       "  (1, 'I'),\n",
       "  (2, 'G'),\n",
       "  (2, 'H'),\n",
       "  (2, 'I')},\n",
       " {(3, 'A'),\n",
       "  (3, 'B'),\n",
       "  (3, 'C'),\n",
       "  (4, 'A'),\n",
       "  (4, 'B'),\n",
       "  (4, 'C'),\n",
       "  (5, 'A'),\n",
       "  (5, 'B'),\n",
       "  (5, 'C')},\n",
       " {(3, 'D'),\n",
       "  (3, 'E'),\n",
       "  (3, 'F'),\n",
       "  (4, 'D'),\n",
       "  (4, 'E'),\n",
       "  (4, 'F'),\n",
       "  (5, 'D'),\n",
       "  (5, 'E'),\n",
       "  (5, 'F')},\n",
       " {(3, 'G'),\n",
       "  (3, 'H'),\n",
       "  (3, 'I'),\n",
       "  (4, 'G'),\n",
       "  (4, 'H'),\n",
       "  (4, 'I'),\n",
       "  (5, 'G'),\n",
       "  (5, 'H'),\n",
       "  (5, 'I')},\n",
       " {(6, 'A'),\n",
       "  (6, 'B'),\n",
       "  (6, 'C'),\n",
       "  (7, 'A'),\n",
       "  (7, 'B'),\n",
       "  (7, 'C'),\n",
       "  (8, 'A'),\n",
       "  (8, 'B'),\n",
       "  (8, 'C')},\n",
       " {(6, 'D'),\n",
       "  (6, 'E'),\n",
       "  (6, 'F'),\n",
       "  (7, 'D'),\n",
       "  (7, 'E'),\n",
       "  (7, 'F'),\n",
       "  (8, 'D'),\n",
       "  (8, 'E'),\n",
       "  (8, 'F')},\n",
       " {(6, 'G'),\n",
       "  (6, 'H'),\n",
       "  (6, 'I'),\n",
       "  (7, 'G'),\n",
       "  (7, 'H'),\n",
       "  (7, 'I'),\n",
       "  (8, 'G'),\n",
       "  (8, 'H'),\n",
       "  (8, 'I')}]"
      ]
     },
     "execution_count": 95,
     "metadata": {},
     "output_type": "execute_result"
    }
   ],
   "source": [
    "POSSIBLE_VALUES = set(range(1,10))\n",
    "BLOQUES = [\n",
    "    set(itertools.product([0,1,2], ['A', 'B', 'C'])),\n",
    "    set(itertools.product([0,1,2], ['D', 'E', 'F'])),\n",
    "    set(itertools.product([0,1,2], ['G', 'H', 'I'])),\n",
    "    \n",
    "    set(itertools.product([3,4,5], ['A', 'B', 'C'])),\n",
    "    set(itertools.product([3,4,5], ['D', 'E', 'F'])),\n",
    "    set(itertools.product([3,4,5], ['G', 'H', 'I'])),\n",
    "    \n",
    "    set(itertools.product([6,7,8], ['A', 'B', 'C'])),\n",
    "    set(itertools.product([6,7,8], ['D', 'E', 'F'])),\n",
    "    set(itertools.product([6,7,8], ['G', 'H', 'I'])),\n",
    "]\n",
    "BLOQUES"
   ]
  },
  {
   "cell_type": "code",
   "execution_count": 96,
   "id": "c542151f",
   "metadata": {
    "pycharm": {
     "name": "#%%\n"
    }
   },
   "outputs": [
    {
     "data": {
      "text/plain": [
       "{1, 2, 3, 4, 5, 6, 7, 8, 9}"
      ]
     },
     "execution_count": 96,
     "metadata": {},
     "output_type": "execute_result"
    }
   ],
   "source": [
    "POSSIBLE_VALUES"
   ]
  },
  {
   "cell_type": "code",
   "execution_count": 112,
   "id": "da567a09",
   "metadata": {
    "pycharm": {
     "name": "#%%\n"
    }
   },
   "outputs": [
    {
     "data": {
      "text/html": [
       "<div>\n",
       "<style scoped>\n",
       "    .dataframe tbody tr th:only-of-type {\n",
       "        vertical-align: middle;\n",
       "    }\n",
       "\n",
       "    .dataframe tbody tr th {\n",
       "        vertical-align: top;\n",
       "    }\n",
       "\n",
       "    .dataframe thead th {\n",
       "        text-align: right;\n",
       "    }\n",
       "</style>\n",
       "<table border=\"1\" class=\"dataframe\">\n",
       "  <thead>\n",
       "    <tr style=\"text-align: right;\">\n",
       "      <th></th>\n",
       "      <th>A</th>\n",
       "      <th>B</th>\n",
       "      <th>C</th>\n",
       "      <th>D</th>\n",
       "      <th>E</th>\n",
       "      <th>F</th>\n",
       "      <th>G</th>\n",
       "      <th>H</th>\n",
       "      <th>I</th>\n",
       "    </tr>\n",
       "  </thead>\n",
       "  <tbody>\n",
       "    <tr>\n",
       "      <th>0</th>\n",
       "      <td>5.0</td>\n",
       "      <td>3.0</td>\n",
       "      <td>NaN</td>\n",
       "      <td>NaN</td>\n",
       "      <td>7.0</td>\n",
       "      <td>NaN</td>\n",
       "      <td>NaN</td>\n",
       "      <td>NaN</td>\n",
       "      <td>NaN</td>\n",
       "    </tr>\n",
       "    <tr>\n",
       "      <th>1</th>\n",
       "      <td>6.0</td>\n",
       "      <td>NaN</td>\n",
       "      <td>NaN</td>\n",
       "      <td>1.0</td>\n",
       "      <td>9.0</td>\n",
       "      <td>5.0</td>\n",
       "      <td>NaN</td>\n",
       "      <td>NaN</td>\n",
       "      <td>NaN</td>\n",
       "    </tr>\n",
       "    <tr>\n",
       "      <th>2</th>\n",
       "      <td>NaN</td>\n",
       "      <td>9.0</td>\n",
       "      <td>8.0</td>\n",
       "      <td>NaN</td>\n",
       "      <td>NaN</td>\n",
       "      <td>NaN</td>\n",
       "      <td>NaN</td>\n",
       "      <td>6.0</td>\n",
       "      <td>NaN</td>\n",
       "    </tr>\n",
       "    <tr>\n",
       "      <th>3</th>\n",
       "      <td>8.0</td>\n",
       "      <td>NaN</td>\n",
       "      <td>NaN</td>\n",
       "      <td>NaN</td>\n",
       "      <td>6.0</td>\n",
       "      <td>NaN</td>\n",
       "      <td>NaN</td>\n",
       "      <td>NaN</td>\n",
       "      <td>3.0</td>\n",
       "    </tr>\n",
       "    <tr>\n",
       "      <th>4</th>\n",
       "      <td>4.0</td>\n",
       "      <td>NaN</td>\n",
       "      <td>NaN</td>\n",
       "      <td>NaN</td>\n",
       "      <td>NaN</td>\n",
       "      <td>NaN</td>\n",
       "      <td>NaN</td>\n",
       "      <td>NaN</td>\n",
       "      <td>1.0</td>\n",
       "    </tr>\n",
       "    <tr>\n",
       "      <th>5</th>\n",
       "      <td>7.0</td>\n",
       "      <td>NaN</td>\n",
       "      <td>NaN</td>\n",
       "      <td>NaN</td>\n",
       "      <td>NaN</td>\n",
       "      <td>NaN</td>\n",
       "      <td>NaN</td>\n",
       "      <td>NaN</td>\n",
       "      <td>6.0</td>\n",
       "    </tr>\n",
       "    <tr>\n",
       "      <th>6</th>\n",
       "      <td>NaN</td>\n",
       "      <td>6.0</td>\n",
       "      <td>NaN</td>\n",
       "      <td>NaN</td>\n",
       "      <td>NaN</td>\n",
       "      <td>NaN</td>\n",
       "      <td>2.0</td>\n",
       "      <td>8.0</td>\n",
       "      <td>4.0</td>\n",
       "    </tr>\n",
       "    <tr>\n",
       "      <th>7</th>\n",
       "      <td>NaN</td>\n",
       "      <td>NaN</td>\n",
       "      <td>NaN</td>\n",
       "      <td>4.0</td>\n",
       "      <td>1.0</td>\n",
       "      <td>9.0</td>\n",
       "      <td>NaN</td>\n",
       "      <td>3.0</td>\n",
       "      <td>5.0</td>\n",
       "    </tr>\n",
       "    <tr>\n",
       "      <th>8</th>\n",
       "      <td>NaN</td>\n",
       "      <td>NaN</td>\n",
       "      <td>NaN</td>\n",
       "      <td>NaN</td>\n",
       "      <td>8.0</td>\n",
       "      <td>NaN</td>\n",
       "      <td>NaN</td>\n",
       "      <td>7.0</td>\n",
       "      <td>9.0</td>\n",
       "    </tr>\n",
       "  </tbody>\n",
       "</table>\n",
       "</div>"
      ],
      "text/plain": [
       "     A    B    C    D    E    F    G    H    I\n",
       "0  5.0  3.0  NaN  NaN  7.0  NaN  NaN  NaN  NaN\n",
       "1  6.0  NaN  NaN  1.0  9.0  5.0  NaN  NaN  NaN\n",
       "2  NaN  9.0  8.0  NaN  NaN  NaN  NaN  6.0  NaN\n",
       "3  8.0  NaN  NaN  NaN  6.0  NaN  NaN  NaN  3.0\n",
       "4  4.0  NaN  NaN  NaN  NaN  NaN  NaN  NaN  1.0\n",
       "5  7.0  NaN  NaN  NaN  NaN  NaN  NaN  NaN  6.0\n",
       "6  NaN  6.0  NaN  NaN  NaN  NaN  2.0  8.0  4.0\n",
       "7  NaN  NaN  NaN  4.0  1.0  9.0  NaN  3.0  5.0\n",
       "8  NaN  NaN  NaN  NaN  8.0  NaN  NaN  7.0  9.0"
      ]
     },
     "execution_count": 112,
     "metadata": {},
     "output_type": "execute_result"
    }
   ],
   "source": [
    "sudoku_df = pd.read_csv('sudoku_input.csv',  header=None)\n",
    "sudoku_df.columns = ['A', 'B', 'C','D','E','F','G','H','I']\n",
    "sudoku_df.head(10)"
   ]
  },
  {
   "cell_type": "code",
   "execution_count": 113,
   "id": "0c7aee0a",
   "metadata": {
    "pycharm": {
     "name": "#%%\n"
    }
   },
   "outputs": [
    {
     "data": {
      "text/html": [
       "<div>\n",
       "<style scoped>\n",
       "    .dataframe tbody tr th:only-of-type {\n",
       "        vertical-align: middle;\n",
       "    }\n",
       "\n",
       "    .dataframe tbody tr th {\n",
       "        vertical-align: top;\n",
       "    }\n",
       "\n",
       "    .dataframe thead th {\n",
       "        text-align: right;\n",
       "    }\n",
       "</style>\n",
       "<table border=\"1\" class=\"dataframe\">\n",
       "  <thead>\n",
       "    <tr style=\"text-align: right;\">\n",
       "      <th></th>\n",
       "      <th>A</th>\n",
       "      <th>B</th>\n",
       "      <th>C</th>\n",
       "      <th>D</th>\n",
       "      <th>E</th>\n",
       "      <th>F</th>\n",
       "      <th>G</th>\n",
       "      <th>H</th>\n",
       "      <th>I</th>\n",
       "    </tr>\n",
       "  </thead>\n",
       "  <tbody>\n",
       "    <tr>\n",
       "      <th>0</th>\n",
       "      <td>5.0</td>\n",
       "      <td>3.0</td>\n",
       "      <td></td>\n",
       "      <td></td>\n",
       "      <td>7.0</td>\n",
       "      <td></td>\n",
       "      <td></td>\n",
       "      <td></td>\n",
       "      <td></td>\n",
       "    </tr>\n",
       "    <tr>\n",
       "      <th>1</th>\n",
       "      <td>6.0</td>\n",
       "      <td></td>\n",
       "      <td></td>\n",
       "      <td>1.0</td>\n",
       "      <td>9.0</td>\n",
       "      <td>5.0</td>\n",
       "      <td></td>\n",
       "      <td></td>\n",
       "      <td></td>\n",
       "    </tr>\n",
       "    <tr>\n",
       "      <th>2</th>\n",
       "      <td></td>\n",
       "      <td>9.0</td>\n",
       "      <td>8.0</td>\n",
       "      <td></td>\n",
       "      <td></td>\n",
       "      <td></td>\n",
       "      <td></td>\n",
       "      <td>6.0</td>\n",
       "      <td></td>\n",
       "    </tr>\n",
       "    <tr>\n",
       "      <th>3</th>\n",
       "      <td>8.0</td>\n",
       "      <td></td>\n",
       "      <td></td>\n",
       "      <td></td>\n",
       "      <td>6.0</td>\n",
       "      <td></td>\n",
       "      <td></td>\n",
       "      <td></td>\n",
       "      <td>3.0</td>\n",
       "    </tr>\n",
       "    <tr>\n",
       "      <th>4</th>\n",
       "      <td>4.0</td>\n",
       "      <td></td>\n",
       "      <td></td>\n",
       "      <td></td>\n",
       "      <td></td>\n",
       "      <td></td>\n",
       "      <td></td>\n",
       "      <td></td>\n",
       "      <td>1.0</td>\n",
       "    </tr>\n",
       "  </tbody>\n",
       "</table>\n",
       "</div>"
      ],
      "text/plain": [
       "     A    B    C    D    E    F G    H    I\n",
       "0  5.0  3.0            7.0                 \n",
       "1  6.0            1.0  9.0  5.0            \n",
       "2       9.0  8.0                   6.0     \n",
       "3  8.0                 6.0              3.0\n",
       "4  4.0                                  1.0"
      ]
     },
     "execution_count": 113,
     "metadata": {},
     "output_type": "execute_result"
    }
   ],
   "source": [
    "sudoku_df = sudoku_df.fillna('')\n",
    "sudoku_df.head()"
   ]
  },
  {
   "cell_type": "code",
   "execution_count": 114,
   "id": "3e8e7f88",
   "metadata": {
    "pycharm": {
     "name": "#%%\n"
    }
   },
   "outputs": [],
   "source": [
    "def get_indexes(row_index, column_index):\n",
    "    index_blocks = [b for b in BLOQUES if (row_index, column_index) in b][0]\n",
    "    column_indexes = {(row_index, c_index) for c_index in ['A', 'B', 'C', 'D', 'E', 'F', 'G', 'H', 'I']}\n",
    "    row_indexes = {(r_index, column_index) for r_index in range(9)}\n",
    "    \n",
    "    return index_blocks.union(column_indexes).union(row_indexes)"
   ]
  },
  {
   "cell_type": "code",
   "execution_count": 115,
   "id": "bf5b5ee5",
   "metadata": {
    "pycharm": {
     "name": "#%%\n"
    }
   },
   "outputs": [],
   "source": [
    "def get_values_in_indexes(indexes, df):\n",
    "    values_set = set()\n",
    "    for r_i, c_i in indexes:\n",
    "        value_cell = df.iloc[r_i][c_i]\n",
    "        if not (isinstance(value_cell, str) or isinstance(value_cell, set)):\n",
    "            values_set = values_set.union({value_cell})\n",
    "    return values_set"
   ]
  },
  {
   "cell_type": "code",
   "execution_count": 116,
   "id": "8e8cd1c2",
   "metadata": {
    "pycharm": {
     "name": "#%%\n"
    }
   },
   "outputs": [],
   "source": [
    "def get_df_sudoku(sudoku_df_):\n",
    "    sudoku_df_ = sudoku_df_.copy()\n",
    "    for row_index, row in sudoku_df_.iterrows():\n",
    "        for c_index in ['A', 'B', 'C', 'D', 'E', 'F', 'G', 'H', 'I']:\n",
    "            cell_value_is_empty = sudoku_df_.iloc[row_index][c_index] ==  ''\n",
    "            if cell_value_is_empty:\n",
    "                cell_possible_values = POSSIBLE_VALUES\n",
    "                used_values = get_values_in_indexes(get_indexes(row_index, c_index), sudoku_df_)\n",
    "                cell_possible_values = cell_possible_values - used_values\n",
    "                if len(cell_possible_values) == 0:\n",
    "                    return None\n",
    "                if len(cell_possible_values) == 1:\n",
    "                    sudoku_df_.iloc[row_index][c_index] = cell_possible_values.pop()\n",
    "                else:\n",
    "                    sudoku_df_.iloc[row_index][c_index] = cell_possible_values\n",
    "    return sudoku_df_   "
   ]
  },
  {
   "cell_type": "code",
   "execution_count": 123,
   "id": "0bc6f9ed",
   "metadata": {
    "pycharm": {
     "name": "#%%\n"
    }
   },
   "outputs": [
    {
     "data": {
      "text/html": [
       "<div>\n",
       "<style scoped>\n",
       "    .dataframe tbody tr th:only-of-type {\n",
       "        vertical-align: middle;\n",
       "    }\n",
       "\n",
       "    .dataframe tbody tr th {\n",
       "        vertical-align: top;\n",
       "    }\n",
       "\n",
       "    .dataframe thead th {\n",
       "        text-align: right;\n",
       "    }\n",
       "</style>\n",
       "<table border=\"1\" class=\"dataframe\">\n",
       "  <thead>\n",
       "    <tr style=\"text-align: right;\">\n",
       "      <th></th>\n",
       "      <th>A</th>\n",
       "      <th>B</th>\n",
       "      <th>C</th>\n",
       "      <th>D</th>\n",
       "      <th>E</th>\n",
       "      <th>F</th>\n",
       "      <th>G</th>\n",
       "      <th>H</th>\n",
       "      <th>I</th>\n",
       "    </tr>\n",
       "  </thead>\n",
       "  <tbody>\n",
       "    <tr>\n",
       "      <th>0</th>\n",
       "      <td>5.0</td>\n",
       "      <td>3.0</td>\n",
       "      <td>{1, 2, 4}</td>\n",
       "      <td>{8, 2, 6}</td>\n",
       "      <td>7.0</td>\n",
       "      <td>{8, 2, 4, 6}</td>\n",
       "      <td>{8, 1, 4, 9}</td>\n",
       "      <td>{1, 2, 4, 9}</td>\n",
       "      <td>{8, 2}</td>\n",
       "    </tr>\n",
       "    <tr>\n",
       "      <th>1</th>\n",
       "      <td>6.0</td>\n",
       "      <td>{2, 4, 7}</td>\n",
       "      <td>{2, 4, 7}</td>\n",
       "      <td>1.0</td>\n",
       "      <td>9.0</td>\n",
       "      <td>5.0</td>\n",
       "      <td>{8, 3, 4, 7}</td>\n",
       "      <td>{2, 4}</td>\n",
       "      <td>{8, 2, 7}</td>\n",
       "    </tr>\n",
       "    <tr>\n",
       "      <th>2</th>\n",
       "      <td>{1, 2}</td>\n",
       "      <td>9.0</td>\n",
       "      <td>8.0</td>\n",
       "      <td>{2, 3}</td>\n",
       "      <td>{2, 3, 4}</td>\n",
       "      <td>{2, 3, 4}</td>\n",
       "      <td>{1, 3, 4, 5, 7}</td>\n",
       "      <td>6.0</td>\n",
       "      <td>{2, 7}</td>\n",
       "    </tr>\n",
       "    <tr>\n",
       "      <th>3</th>\n",
       "      <td>8.0</td>\n",
       "      <td>{1, 2, 5}</td>\n",
       "      <td>{1, 2, 5, 9}</td>\n",
       "      <td>{9, 2, 5, 7}</td>\n",
       "      <td>6.0</td>\n",
       "      <td>{1, 2, 4, 7}</td>\n",
       "      <td>{9, 4, 5, 7}</td>\n",
       "      <td>{9, 2, 4, 5}</td>\n",
       "      <td>3.0</td>\n",
       "    </tr>\n",
       "    <tr>\n",
       "      <th>4</th>\n",
       "      <td>4.0</td>\n",
       "      <td>{2, 5}</td>\n",
       "      <td>{2, 3, 5, 6, 9}</td>\n",
       "      <td>{2, 3, 5, 7, 8, 9}</td>\n",
       "      <td>{2, 3, 5}</td>\n",
       "      <td>{8, 2, 3, 7}</td>\n",
       "      <td>{8, 9, 5, 7}</td>\n",
       "      <td>{9, 2, 5}</td>\n",
       "      <td>1.0</td>\n",
       "    </tr>\n",
       "    <tr>\n",
       "      <th>5</th>\n",
       "      <td>7.0</td>\n",
       "      <td>{1, 2, 5}</td>\n",
       "      <td>{1, 2, 3, 5, 9}</td>\n",
       "      <td>{2, 3, 5, 8, 9}</td>\n",
       "      <td>{2, 3, 4, 5}</td>\n",
       "      <td>{1, 2, 3, 4, 8}</td>\n",
       "      <td>{8, 9, 4, 5}</td>\n",
       "      <td>{9, 2, 4, 5}</td>\n",
       "      <td>6.0</td>\n",
       "    </tr>\n",
       "    <tr>\n",
       "      <th>6</th>\n",
       "      <td>{1, 3, 9}</td>\n",
       "      <td>6.0</td>\n",
       "      <td>{1, 3, 5, 7, 9}</td>\n",
       "      <td>{3, 5, 7}</td>\n",
       "      <td>{3, 5}</td>\n",
       "      <td>{3, 7}</td>\n",
       "      <td>2.0</td>\n",
       "      <td>8.0</td>\n",
       "      <td>4.0</td>\n",
       "    </tr>\n",
       "    <tr>\n",
       "      <th>7</th>\n",
       "      <td>2</td>\n",
       "      <td>{8, 7}</td>\n",
       "      <td>7</td>\n",
       "      <td>4.0</td>\n",
       "      <td>1.0</td>\n",
       "      <td>9.0</td>\n",
       "      <td>6</td>\n",
       "      <td>3.0</td>\n",
       "      <td>5.0</td>\n",
       "    </tr>\n",
       "    <tr>\n",
       "      <th>8</th>\n",
       "      <td>{1, 3}</td>\n",
       "      <td>{1, 4, 5}</td>\n",
       "      <td>{1, 3, 4, 5}</td>\n",
       "      <td>{2, 3, 5, 6}</td>\n",
       "      <td>8.0</td>\n",
       "      <td>{2, 3, 6}</td>\n",
       "      <td>1</td>\n",
       "      <td>7.0</td>\n",
       "      <td>9.0</td>\n",
       "    </tr>\n",
       "  </tbody>\n",
       "</table>\n",
       "</div>"
      ],
      "text/plain": [
       "           A          B                C                   D             E  \\\n",
       "0        5.0        3.0        {1, 2, 4}           {8, 2, 6}           7.0   \n",
       "1        6.0  {2, 4, 7}        {2, 4, 7}                 1.0           9.0   \n",
       "2     {1, 2}        9.0              8.0              {2, 3}     {2, 3, 4}   \n",
       "3        8.0  {1, 2, 5}     {1, 2, 5, 9}        {9, 2, 5, 7}           6.0   \n",
       "4        4.0     {2, 5}  {2, 3, 5, 6, 9}  {2, 3, 5, 7, 8, 9}     {2, 3, 5}   \n",
       "5        7.0  {1, 2, 5}  {1, 2, 3, 5, 9}     {2, 3, 5, 8, 9}  {2, 3, 4, 5}   \n",
       "6  {1, 3, 9}        6.0  {1, 3, 5, 7, 9}           {3, 5, 7}        {3, 5}   \n",
       "7          2     {8, 7}                7                 4.0           1.0   \n",
       "8     {1, 3}  {1, 4, 5}     {1, 3, 4, 5}        {2, 3, 5, 6}           8.0   \n",
       "\n",
       "                 F                G             H          I  \n",
       "0     {8, 2, 4, 6}     {8, 1, 4, 9}  {1, 2, 4, 9}     {8, 2}  \n",
       "1              5.0     {8, 3, 4, 7}        {2, 4}  {8, 2, 7}  \n",
       "2        {2, 3, 4}  {1, 3, 4, 5, 7}           6.0     {2, 7}  \n",
       "3     {1, 2, 4, 7}     {9, 4, 5, 7}  {9, 2, 4, 5}        3.0  \n",
       "4     {8, 2, 3, 7}     {8, 9, 5, 7}     {9, 2, 5}        1.0  \n",
       "5  {1, 2, 3, 4, 8}     {8, 9, 4, 5}  {9, 2, 4, 5}        6.0  \n",
       "6           {3, 7}              2.0           8.0        4.0  \n",
       "7              9.0                6           3.0        5.0  \n",
       "8        {2, 3, 6}                1           7.0        9.0  "
      ]
     },
     "execution_count": 123,
     "metadata": {},
     "output_type": "execute_result"
    }
   ],
   "source": [
    "sudoku_df_v1 = get_df_sudoku(sudoku_df)\n",
    "sudoku_df_v1"
   ]
  },
  {
   "cell_type": "code",
   "execution_count": 99,
   "id": "25c73a12",
   "metadata": {
    "pycharm": {
     "name": "#%%\n"
    }
   },
   "outputs": [
    {
     "data": {
      "text/plain": [
       "3"
      ]
     },
     "execution_count": 99,
     "metadata": {},
     "output_type": "execute_result"
    }
   ],
   "source": []
  },
  {
   "cell_type": "code",
   "execution_count": null,
   "id": "d173ac87",
   "metadata": {
    "pycharm": {
     "name": "#%%\n"
    }
   },
   "outputs": [],
   "source": []
  }
 ],
 "metadata": {
  "kernelspec": {
   "display_name": "Python 3 (ipykernel)",
   "language": "python",
   "name": "python3"
  },
  "language_info": {
   "codemirror_mode": {
    "name": "ipython",
    "version": 3
   },
   "file_extension": ".py",
   "mimetype": "text/x-python",
   "name": "python",
   "nbconvert_exporter": "python",
   "pygments_lexer": "ipython3",
   "version": "3.9.12"
  }
 },
 "nbformat": 4,
 "nbformat_minor": 5
}